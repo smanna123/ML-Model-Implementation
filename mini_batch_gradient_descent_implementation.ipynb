{
 "cells": [
  {
   "cell_type": "code",
   "execution_count": 9,
   "id": "9cd56d98",
   "metadata": {},
   "outputs": [],
   "source": [
    "import numpy as np\n",
    "import pandas as pd\n",
    "import random\n",
    "import tensorflow as tf"
   ]
  },
  {
   "cell_type": "code",
   "execution_count": 10,
   "id": "a336e293",
   "metadata": {},
   "outputs": [],
   "source": [
    "class MBSGDRegressior:\n",
    "    def __init__(self,batch_size,learning_rate=0.01,epochs=50):\n",
    "        self.learning_rate = learning_rate\n",
    "        self.epochs = epochs\n",
    "        self.batch_size = batch_size\n",
    "        self.coef = None\n",
    "        self.intercept = None\n",
    "        \n",
    "    def fit(self,x_train,y_train):\n",
    "        self.intercept = 0\n",
    "        self.coef = np.ones(x_train.shape[1])\n",
    "        \n",
    "        for i in range(self.epochs):\n",
    "            \n",
    "            \n",
    "            for j in range(int(x_train.shape[0]/self.batch_size)):\n",
    "                \n",
    "                idx= random.sample(range(x_train.shape[0]),self.batch_size)\n",
    "                y_hat = np.dot(x_train[idx],self.coef)+self.intercept\n",
    "                \n",
    "                intercept_der = -2 * np.mean(y_train[idx]-y_hat)\n",
    "                self.intercept = self.intercept - (self.learning_rate*intercept_der)\n",
    "                \n",
    "                coef_der = -2 * np.dot((y_train[idx]-y_hat),x_train[idx])\n",
    "                self.coef = self.coef - (self.learning_rate*coef_der)\n",
    "                \n",
    "        print(self.coef)\n",
    "        print(self.intercept)\n",
    "        \n",
    "        \n",
    "    def predict(self,x_test):\n",
    "        return np.dot(x_test,self.coef)+self.intercept\n",
    "                \n",
    "        "
   ]
  },
  {
   "cell_type": "code",
   "execution_count": 3,
   "id": "f92af688",
   "metadata": {},
   "outputs": [],
   "source": [
    "from sklearn.datasets import load_diabetes\n",
    "from sklearn.model_selection import train_test_split"
   ]
  },
  {
   "cell_type": "code",
   "execution_count": 4,
   "id": "713e3ec3",
   "metadata": {},
   "outputs": [],
   "source": [
    "x,y = load_diabetes(return_X_y=True)"
   ]
  },
  {
   "cell_type": "code",
   "execution_count": 5,
   "id": "bc042a45",
   "metadata": {},
   "outputs": [],
   "source": [
    "x_train, x_test, y_train, y_test = train_test_split(x,y,test_size=0.2,random_state=2)"
   ]
  },
  {
   "cell_type": "code",
   "execution_count": 6,
   "id": "11fd6cb5",
   "metadata": {},
   "outputs": [],
   "source": [
    "mb = MBSGDRegressior(batch_size=int(x_train.shape[0]/10))"
   ]
  },
  {
   "cell_type": "code",
   "execution_count": 7,
   "id": "671d249f",
   "metadata": {},
   "outputs": [
    {
     "name": "stdout",
     "output_type": "stream",
     "text": [
      "[  66.7748864   -68.10951729  345.95173421  253.14485334    8.99801698\n",
      "  -35.70259617 -178.1127412   128.64563951  319.93257847  131.08592331]\n",
      "152.01206563995825\n"
     ]
    }
   ],
   "source": [
    "mb.fit(x_train,y_train)"
   ]
  },
  {
   "cell_type": "code",
   "execution_count": null,
   "id": "c4124aef",
   "metadata": {},
   "outputs": [],
   "source": []
  }
 ],
 "metadata": {
  "kernelspec": {
   "display_name": "Python 3 (ipykernel)",
   "language": "python",
   "name": "python3"
  },
  "language_info": {
   "codemirror_mode": {
    "name": "ipython",
    "version": 3
   },
   "file_extension": ".py",
   "mimetype": "text/x-python",
   "name": "python",
   "nbconvert_exporter": "python",
   "pygments_lexer": "ipython3",
   "version": "3.9.13"
  }
 },
 "nbformat": 4,
 "nbformat_minor": 5
}
